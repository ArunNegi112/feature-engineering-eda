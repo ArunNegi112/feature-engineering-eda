{
 "cells": [
  {
   "cell_type": "markdown",
   "id": "c190de51",
   "metadata": {},
   "source": [
    "## Multicollinearity \n",
    "It happens when two or more features are highly correlated to each other.  \n",
    "\n",
    "### Problems\n",
    "- It becomes difficult to know how each feature is affecting the result. since multiple features are giving similar information it be difficult to find individual contribution\n",
    "- It can also overfit the model due to presence of similar features \n",
    "- Unstable coefficients : when independent features are highly correlated, even small changes in data can make the coefficients fluctuate a lot \n",
    "- The model is not relaible due to high errors\n",
    "\n",
    "### How to detect?\n",
    "- VIF (Variance inflation factor) : \n",
    "    - vif = 1 -> independent features\n",
    "    - vif <=5 -> acceptable generally\n",
    "    - vif > 5 -> Multicollinerity\n",
    "    - vif > 10 -> problematic!\n",
    "\n",
    "- Correlation matrix :\n",
    "    - corr > 0.7 or 0.8 -> Multicollinearity\n",
    "\n",
    "### Solution\n",
    "\n",
    "- Reduce redundant variables: if two or more features show multicollinearity, one of them can be dropped (less important one)\n",
    "- Combine variables: combine the variables with multicollinearity and remove individual ones\n",
    "- Regularization: Ridge regression shrinks the effect of features, Lasso almost removes less important features\n",
    "- Get more data: Getting more data reduces overfitting and can remove multicollinearity between features\n",
    "- PCA (Principle component analysis)"
   ]
  },
  {
   "cell_type": "code",
   "execution_count": 2,
   "id": "33f8c5f0",
   "metadata": {},
   "outputs": [],
   "source": [
    "## showing VIF\n",
    "import numpy as np\n",
    "import pandas as pd\n",
    "import matplotlib.pyplot as plt\n",
    "from statsmodels.stats.outliers_influence import variance_inflation_factor"
   ]
  },
  {
   "cell_type": "code",
   "execution_count": 7,
   "id": "f50a0420",
   "metadata": {},
   "outputs": [
    {
     "data": {
      "text/html": [
       "<div>\n",
       "<style scoped>\n",
       "    .dataframe tbody tr th:only-of-type {\n",
       "        vertical-align: middle;\n",
       "    }\n",
       "\n",
       "    .dataframe tbody tr th {\n",
       "        vertical-align: top;\n",
       "    }\n",
       "\n",
       "    .dataframe thead th {\n",
       "        text-align: right;\n",
       "    }\n",
       "</style>\n",
       "<table border=\"1\" class=\"dataframe\">\n",
       "  <thead>\n",
       "    <tr style=\"text-align: right;\">\n",
       "      <th></th>\n",
       "      <th>Gender</th>\n",
       "      <th>Height</th>\n",
       "      <th>Weight</th>\n",
       "      <th>Index</th>\n",
       "    </tr>\n",
       "  </thead>\n",
       "  <tbody>\n",
       "    <tr>\n",
       "      <th>0</th>\n",
       "      <td>Male</td>\n",
       "      <td>174</td>\n",
       "      <td>96</td>\n",
       "      <td>4</td>\n",
       "    </tr>\n",
       "    <tr>\n",
       "      <th>1</th>\n",
       "      <td>Male</td>\n",
       "      <td>189</td>\n",
       "      <td>87</td>\n",
       "      <td>2</td>\n",
       "    </tr>\n",
       "    <tr>\n",
       "      <th>2</th>\n",
       "      <td>Female</td>\n",
       "      <td>185</td>\n",
       "      <td>110</td>\n",
       "      <td>4</td>\n",
       "    </tr>\n",
       "    <tr>\n",
       "      <th>3</th>\n",
       "      <td>Female</td>\n",
       "      <td>195</td>\n",
       "      <td>104</td>\n",
       "      <td>3</td>\n",
       "    </tr>\n",
       "    <tr>\n",
       "      <th>4</th>\n",
       "      <td>Male</td>\n",
       "      <td>149</td>\n",
       "      <td>61</td>\n",
       "      <td>3</td>\n",
       "    </tr>\n",
       "  </tbody>\n",
       "</table>\n",
       "</div>"
      ],
      "text/plain": [
       "   Gender  Height  Weight  Index\n",
       "0    Male     174      96      4\n",
       "1    Male     189      87      2\n",
       "2  Female     185     110      4\n",
       "3  Female     195     104      3\n",
       "4    Male     149      61      3"
      ]
     },
     "execution_count": 7,
     "metadata": {},
     "output_type": "execute_result"
    }
   ],
   "source": [
    "data = pd.read_csv('BMI.csv')\n",
    "\n",
    "data.head()"
   ]
  },
  {
   "cell_type": "code",
   "execution_count": 8,
   "id": "c7732d29",
   "metadata": {},
   "outputs": [
    {
     "name": "stdout",
     "output_type": "stream",
     "text": [
      "  feature        VIF\n",
      "0  Gender   2.028864\n",
      "1  Height  11.623103\n",
      "2  Weight  10.688377\n"
     ]
    }
   ],
   "source": [
    "\n",
    "data['Gender'] = data['Gender'].map({'Male':0, 'Female':1})\n",
    "\n",
    "X = data[['Gender', 'Height', 'Weight']]\n",
    "\n",
    "vif_data = pd.DataFrame()\n",
    "vif_data[\"feature\"] = X.columns\n",
    "\n",
    "vif_data[\"VIF\"] = [variance_inflation_factor(X.values, i)\n",
    "                          for i in range(len(X.columns))]\n",
    "print(vif_data)"
   ]
  },
  {
   "cell_type": "markdown",
   "id": "8feeec16",
   "metadata": {},
   "source": [
    "feature with VIF > 10 can be removed or combined if possible"
   ]
  }
 ],
 "metadata": {
  "kernelspec": {
   "display_name": "venv",
   "language": "python",
   "name": "python3"
  },
  "language_info": {
   "codemirror_mode": {
    "name": "ipython",
    "version": 3
   },
   "file_extension": ".py",
   "mimetype": "text/x-python",
   "name": "python",
   "nbconvert_exporter": "python",
   "pygments_lexer": "ipython3",
   "version": "3.13.1"
  }
 },
 "nbformat": 4,
 "nbformat_minor": 5
}
