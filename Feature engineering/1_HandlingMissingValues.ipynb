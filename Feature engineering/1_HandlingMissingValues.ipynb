{
 "cells": [
  {
   "cell_type": "markdown",
   "metadata": {},
   "source": [
    "## Missing Values\n",
    "Missing values in a dataset occur when information for one or more variables is not available"
   ]
  },
  {
   "cell_type": "markdown",
   "metadata": {},
   "source": [
    "#### __Three types of missing values__"
   ]
  },
  {
   "cell_type": "markdown",
   "metadata": {},
   "source": [
    "### _1.  MCAR (Missing Completely At Random)_\n",
    "In MCAR dataset, data points are missing randomly with no pattern or any particular reason,  \n",
    "- No systematic pattern in the missingness.  \n",
    "- The probability of missing data is the same for all observations. And is unrelated to any variable in dataset \n",
    "\n",
    "ex : During data entry, some values are accidentally left blank or lost due to technical glitch. \n",
    "\n",
    "### _2. MAR (Missing At Random)_\n",
    "In MAR dataset, missing data points do not depend on missing data, rather they depend on observed data.\n",
    "- Missingness depends on other variables (variable that contain observed data) in the dataset.\n",
    "- The missing data can be predicted using observed data.\n",
    "\n",
    "ex : In an internet survey, respondents from rural areas (observed variable) are more likely to skip questions about internet usage (missing variable). The missingness is related to location, not to internet usage itself.\n",
    "\n",
    "### _3. MNAR (Missing Not At Random)_\n",
    "In MNAR dataset, the missing data points depends on missing data itself or some other unobserved factor\n",
    "- The reason for missing data is linked to the value itself.\n",
    "- Ignoring it can lead to incorrect conclusions.\n",
    "\n",
    "ex : In an income survey, people with very high salaries might skip answering income-related questions because they feel uncomfortable revealing their earnings. The missingness depends on income itself (the unobserved or missing variable).\n",
    "\n",
    "\n",
    "#### Example \n",
    "In an salary survey\n",
    "| **Scenario** | **Explanation**                                 | **Reason for Missingness**                      |\n",
    "|--------------|--------------------------------------------------|-------------------------------------------------|\n",
    "| **MCAR**     | Some data is lost due to technical error         | Completely random, no pattern                   |\n",
    "| **MAR**      | Older people are less likely to report income    | Depends on age (observed variable), not income  |\n",
    "| **MNAR**     | High-income individuals avoid reporting income   | Missingness depends on income itself (unobserved) |\n"
   ]
  },
  {
   "cell_type": "code",
   "execution_count": null,
   "metadata": {},
   "outputs": [],
   "source": []
  }
 ],
 "metadata": {
  "kernelspec": {
   "display_name": "venv",
   "language": "python",
   "name": "python3"
  },
  "language_info": {
   "codemirror_mode": {
    "name": "ipython",
    "version": 3
   },
   "file_extension": ".py",
   "mimetype": "text/x-python",
   "name": "python",
   "nbconvert_exporter": "python",
   "pygments_lexer": "ipython3",
   "version": "3.13.1"
  }
 },
 "nbformat": 4,
 "nbformat_minor": 2
}
